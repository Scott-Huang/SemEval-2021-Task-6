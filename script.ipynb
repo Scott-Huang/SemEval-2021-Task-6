{
 "cells": [
  {
   "cell_type": "code",
   "execution_count": 2,
   "metadata": {},
   "outputs": [],
   "source": [
    "import json\n",
    "from algorithm.data import get_data\n",
    "tr_data, dev_data, test_data = get_data()\n",
    "total_data = {}\n",
    "total_data.update(tr_data)\n",
    "total_data.update(dev_data)\n",
    "total_data.update(test_data)\n",
    "sents = []"
   ]
  },
  {
   "cell_type": "code",
   "execution_count": 3,
   "metadata": {},
   "outputs": [],
   "source": [
    "ent_map = {}\n",
    "with open(\"kg_embed/entity_map.txt\") as fin:\n",
    "    for line in fin:\n",
    "        name, qid = line.strip().split(\"\\t\")\n",
    "        ent_map[name] = qid\n",
    "entity2id = {}\n",
    "with open(\"kg_embed/entity2id.txt\") as fin:\n",
    "    fin.readline()\n",
    "    for line in fin:\n",
    "        qid, eid = line.strip().split('\\t')\n",
    "        entity2id[qid] = int(eid)\n",
    "with open(\"data/entities.txt\") as fin:\n",
    "    ents = json.load(fin)"
   ]
  },
  {
   "cell_type": "code",
   "execution_count": 4,
   "metadata": {},
   "outputs": [],
   "source": [
    "from collections import defaultdict\n",
    "temp = defaultdict(set)\n",
    "for k,v in ents.items():\n",
    "    for e in v:\n",
    "        if e in ent_map:\n",
    "            temp[k].add(ent_map[e])\n",
    "temp = dict(temp)\n",
    "ent_ids = defaultdict(set)\n",
    "for k,v in temp.items():\n",
    "    for e in v:\n",
    "        if e in entity2id:\n",
    "            ent_ids[k].add(entity2id[e])\n",
    "ent_ids = dict(ent_ids)"
   ]
  },
  {
   "cell_type": "code",
   "execution_count": 18,
   "metadata": {},
   "outputs": [],
   "source": [
    "del(ent_map)\n",
    "del(entity2id)\n",
    "del(temp)\n",
    "vecs = []\n",
    "with open(\"kg_embed/entity2vec.vec\", 'r') as fin:\n",
    "    for line in fin:\n",
    "        vec = line.strip().split('\\t')\n",
    "        vec = [float(x) for x in vec]\n",
    "        vecs.append(vec)"
   ]
  },
  {
   "cell_type": "code",
   "execution_count": 22,
   "metadata": {},
   "outputs": [],
   "source": [
    "ent_embed = defaultdict(list)\n",
    "for k,v in ent_ids.items():\n",
    "    for eid in v:\n",
    "        ent_embed[k].append(vecs[eid])\n",
    "ent_embed = dict(ent_embed)"
   ]
  },
  {
   "cell_type": "code",
   "execution_count": 26,
   "metadata": {},
   "outputs": [],
   "source": [
    "with open('data/entity_embed.json', 'w+') as f:\n",
    "    json.dump(ent_embed, f, indent=4)"
   ]
  },
  {
   "cell_type": "code",
   "execution_count": 27,
   "metadata": {},
   "outputs": [],
   "source": [
    "from algorithm.data import get_data, LABEL_FREQ\n",
    "import json\n",
    "ent_map = {}\n",
    "with open(\"kg_embed/entity_map.txt\") as fin:\n",
    "    for line in fin:\n",
    "        name, qid = line.strip().split(\"\\t\")\n",
    "        ent_map[name] = qid\n",
    "\n",
    "def get_ents(ann):\n",
    "    ents = []\n",
    "    # Keep annotations with a score higher than 0.3\n",
    "    for a in ann.get_annotations(0.3):\n",
    "        if a.entity_title not in ent_map:\n",
    "            continue\n",
    "        ents.append([ent_map[a.entity_title], a.begin, a.end, a.score])\n",
    "    return ents\n",
    "\n",
    "tr_data, dev_data, test_data = get_data()\n",
    "total_data = {}\n",
    "total_data.update(tr_data)\n",
    "total_data.update(dev_data)\n",
    "total_data.update(test_data)"
   ]
  },
  {
   "cell_type": "code",
   "execution_count": 29,
   "metadata": {},
   "outputs": [],
   "source": [
    "import tagme\n",
    "tagme.GCUBE_TOKEN = \"<TagMe token here>\""
   ]
  },
  {
   "cell_type": "code",
   "execution_count": 30,
   "metadata": {},
   "outputs": [],
   "source": [
    "data = {}\n",
    "for k,v in total_data.items():\n",
    "    sent = v[1]\n",
    "    sent = sent.replace('\\n\\n', '\\n')\n",
    "    if sent.endswith('\\n'):\n",
    "        sent = sent[:-1]\n",
    "    sent = sent.replace('\\n', '\\n ')\n",
    "    d = {}\n",
    "    d['label'] = v[0]\n",
    "    d['text'] = sent\n",
    "    d['entities'] = get_ents(tagme.annotate(sent))\n",
    "    data[k] = d"
   ]
  },
  {
   "cell_type": "code",
   "execution_count": null,
   "metadata": {},
   "outputs": [],
   "source": [
    "with open('data/entity_preprocessed.json', 'w+') as f:\n",
    "    json.dump(data, f, indent=4)"
   ]
  }
 ],
 "metadata": {
  "interpreter": {
   "hash": "b3ba2566441a7c06988d0923437866b63cedc61552a5af99d1f4fb67d367b25f"
  },
  "kernelspec": {
   "display_name": "Python 3.8.12 ('base')",
   "language": "python",
   "name": "python3"
  },
  "language_info": {
   "codemirror_mode": {
    "name": "ipython",
    "version": 3
   },
   "file_extension": ".py",
   "mimetype": "text/x-python",
   "name": "python",
   "nbconvert_exporter": "python",
   "pygments_lexer": "ipython3",
   "version": "3.8.12"
  },
  "orig_nbformat": 4
 },
 "nbformat": 4,
 "nbformat_minor": 2
}
